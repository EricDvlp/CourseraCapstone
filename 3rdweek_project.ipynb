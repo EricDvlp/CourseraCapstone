{
 "cells": [
  {
   "cell_type": "markdown",
   "metadata": {},
   "source": [
    "# Applied Data Science Capstone"
   ]
  },
  {
   "cell_type": "markdown",
   "metadata": {},
   "source": [
    "_Course provided by IBM in [Coursera.org](https://www.coursera.org/learn/applied-data-science-capstone/home/welcome)._\n",
    "\n",
    "Please follow the [CourseraCapstone repository](https://github.com/eric-dvlp/CourseraCapstone) to acess all the files used within this project."
   ]
  },
  {
   "cell_type": "markdown",
   "metadata": {},
   "source": [
    "## 3rd Week Assignment: Segmenting and Clustering Neighborhoods in Toronto"
   ]
  },
  {
   "cell_type": "markdown",
   "metadata": {},
   "source": [
    "In this project, we'll explore and cluster the neighborhoods in Toronto, Canada.\n",
    "\n",
    "* [First part:](#1st) Collecting data\n",
    "* [Second part:](#2nd) Augmenting data with coordinates\n",
    "* [Third part:](#3rd) Analysing clustered data"
   ]
  },
  {
   "cell_type": "markdown",
   "metadata": {},
   "source": [
    "***\n",
    "<div id='1st'/>\n",
    "\n",
    "### First part\n",
    "\n",
    "***"
   ]
  },
  {
   "cell_type": "code",
   "execution_count": null,
   "metadata": {},
   "outputs": [],
   "source": [
    "import pandas as pd"
   ]
  },
  {
   "cell_type": "markdown",
   "metadata": {},
   "source": [
    "First, let us get postal codes of Canada from wikipedia using pandas method `pandas.read_html`:"
   ]
  },
  {
   "cell_type": "code",
   "execution_count": 1,
   "metadata": {},
   "outputs": [],
   "source": [
    "page = pd.read_html('https://en.wikipedia.org/wiki/List_of_postal_codes_of_Canada:_M')"
   ]
  },
  {
   "cell_type": "markdown",
   "metadata": {},
   "source": [
    "This returned a list of contents from the webpage. We only need the first element in `df`:"
   ]
  },
  {
   "cell_type": "code",
   "execution_count": 2,
   "metadata": {},
   "outputs": [
    {
     "data": {
      "text/html": [
       "<div>\n",
       "<style scoped>\n",
       "    .dataframe tbody tr th:only-of-type {\n",
       "        vertical-align: middle;\n",
       "    }\n",
       "\n",
       "    .dataframe tbody tr th {\n",
       "        vertical-align: top;\n",
       "    }\n",
       "\n",
       "    .dataframe thead th {\n",
       "        text-align: right;\n",
       "    }\n",
       "</style>\n",
       "<table border=\"1\" class=\"dataframe\">\n",
       "  <thead>\n",
       "    <tr style=\"text-align: right;\">\n",
       "      <th></th>\n",
       "      <th>PostalCode</th>\n",
       "      <th>Borough</th>\n",
       "      <th>Neighborhood</th>\n",
       "    </tr>\n",
       "  </thead>\n",
       "  <tbody>\n",
       "    <tr>\n",
       "      <th>0</th>\n",
       "      <td>M1A</td>\n",
       "      <td>Not assigned</td>\n",
       "      <td>Not assigned</td>\n",
       "    </tr>\n",
       "    <tr>\n",
       "      <th>1</th>\n",
       "      <td>M2A</td>\n",
       "      <td>Not assigned</td>\n",
       "      <td>Not assigned</td>\n",
       "    </tr>\n",
       "    <tr>\n",
       "      <th>2</th>\n",
       "      <td>M3A</td>\n",
       "      <td>North York</td>\n",
       "      <td>Parkwoods</td>\n",
       "    </tr>\n",
       "    <tr>\n",
       "      <th>3</th>\n",
       "      <td>M4A</td>\n",
       "      <td>North York</td>\n",
       "      <td>Victoria Village</td>\n",
       "    </tr>\n",
       "    <tr>\n",
       "      <th>4</th>\n",
       "      <td>M5A</td>\n",
       "      <td>Downtown Toronto</td>\n",
       "      <td>Regent Park, Harbourfront</td>\n",
       "    </tr>\n",
       "  </tbody>\n",
       "</table>\n",
       "</div>"
      ],
      "text/plain": [
       "  PostalCode           Borough               Neighborhood\n",
       "0        M1A      Not assigned               Not assigned\n",
       "1        M2A      Not assigned               Not assigned\n",
       "2        M3A        North York                  Parkwoods\n",
       "3        M4A        North York           Victoria Village\n",
       "4        M5A  Downtown Toronto  Regent Park, Harbourfront"
      ]
     },
     "execution_count": 2,
     "metadata": {},
     "output_type": "execute_result"
    }
   ],
   "source": [
    "df = page[0]\n",
    "df.rename(columns={'Postal Code':'PostalCode', 'Neighbourhood':'Neighborhood'}, inplace=True)\n",
    "df.head()"
   ]
  },
  {
   "cell_type": "markdown",
   "metadata": {},
   "source": [
    "### Data wrangling"
   ]
  },
  {
   "cell_type": "markdown",
   "metadata": {},
   "source": [
    "In `df` we have some _Borough_ informed as Not assigned, we should drop those:"
   ]
  },
  {
   "cell_type": "code",
   "execution_count": 3,
   "metadata": {},
   "outputs": [
    {
     "name": "stdout",
     "output_type": "stream",
     "text": [
      "Rows before: 180\n",
      "Rows after: 103\n"
     ]
    }
   ],
   "source": [
    "print('Rows before:', df.shape[0])\n",
    "df.drop( df[df['Borough'] == 'Not assigned'].index, inplace=True)\n",
    "print('Rows after:', df.shape[0])"
   ]
  },
  {
   "cell_type": "markdown",
   "metadata": {},
   "source": [
    "At first, this dataset had duplicated _Boroughs_. This can show it has no more:"
   ]
  },
  {
   "cell_type": "code",
   "execution_count": 4,
   "metadata": {},
   "outputs": [
    {
     "data": {
      "text/html": [
       "<div>\n",
       "<style scoped>\n",
       "    .dataframe tbody tr th:only-of-type {\n",
       "        vertical-align: middle;\n",
       "    }\n",
       "\n",
       "    .dataframe tbody tr th {\n",
       "        vertical-align: top;\n",
       "    }\n",
       "\n",
       "    .dataframe thead th {\n",
       "        text-align: right;\n",
       "    }\n",
       "</style>\n",
       "<table border=\"1\" class=\"dataframe\">\n",
       "  <thead>\n",
       "    <tr style=\"text-align: right;\">\n",
       "      <th></th>\n",
       "      <th>Borough</th>\n",
       "      <th>Neighborhood</th>\n",
       "    </tr>\n",
       "    <tr>\n",
       "      <th>PostalCode</th>\n",
       "      <th></th>\n",
       "      <th></th>\n",
       "    </tr>\n",
       "  </thead>\n",
       "  <tbody>\n",
       "  </tbody>\n",
       "</table>\n",
       "</div>"
      ],
      "text/plain": [
       "Empty DataFrame\n",
       "Columns: [Borough, Neighborhood]\n",
       "Index: []"
      ]
     },
     "execution_count": 4,
     "metadata": {},
     "output_type": "execute_result"
    }
   ],
   "source": [
    "df_grouped = df.groupby(['PostalCode']).count()\n",
    "df_grouped[ df_grouped['Borough'] > 1]"
   ]
  },
  {
   "cell_type": "markdown",
   "metadata": {},
   "source": [
    "Just another checking that, in the values previously duplicated, it has more then one Neighbourhood comma separated:"
   ]
  },
  {
   "cell_type": "code",
   "execution_count": 5,
   "metadata": {},
   "outputs": [
    {
     "data": {
      "text/html": [
       "<div>\n",
       "<style scoped>\n",
       "    .dataframe tbody tr th:only-of-type {\n",
       "        vertical-align: middle;\n",
       "    }\n",
       "\n",
       "    .dataframe tbody tr th {\n",
       "        vertical-align: top;\n",
       "    }\n",
       "\n",
       "    .dataframe thead th {\n",
       "        text-align: right;\n",
       "    }\n",
       "</style>\n",
       "<table border=\"1\" class=\"dataframe\">\n",
       "  <thead>\n",
       "    <tr style=\"text-align: right;\">\n",
       "      <th></th>\n",
       "      <th>PostalCode</th>\n",
       "      <th>Borough</th>\n",
       "      <th>Neighborhood</th>\n",
       "    </tr>\n",
       "  </thead>\n",
       "  <tbody>\n",
       "    <tr>\n",
       "      <th>4</th>\n",
       "      <td>M5A</td>\n",
       "      <td>Downtown Toronto</td>\n",
       "      <td>Regent Park, Harbourfront</td>\n",
       "    </tr>\n",
       "    <tr>\n",
       "      <th>139</th>\n",
       "      <td>M5V</td>\n",
       "      <td>Downtown Toronto</td>\n",
       "      <td>CN Tower, King and Spadina, Railway Lands, Har...</td>\n",
       "    </tr>\n",
       "  </tbody>\n",
       "</table>\n",
       "</div>"
      ],
      "text/plain": [
       "    PostalCode           Borough  \\\n",
       "4          M5A  Downtown Toronto   \n",
       "139        M5V  Downtown Toronto   \n",
       "\n",
       "                                          Neighborhood  \n",
       "4                            Regent Park, Harbourfront  \n",
       "139  CN Tower, King and Spadina, Railway Lands, Har...  "
      ]
     },
     "execution_count": 5,
     "metadata": {},
     "output_type": "execute_result"
    }
   ],
   "source": [
    "df[(df['PostalCode'] == 'M5A') | (df['PostalCode'] == 'M5V')]"
   ]
  },
  {
   "cell_type": "markdown",
   "metadata": {},
   "source": [
    "Now, we don't have invalid values:"
   ]
  },
  {
   "cell_type": "code",
   "execution_count": 6,
   "metadata": {},
   "outputs": [
    {
     "name": "stdout",
     "output_type": "stream",
     "text": [
      "Not assigned Neighborhood      -> 0 \n",
      "Neighborhood equals to Borough -> 0 \n",
      "Final dataframe shape: (103, 3)\n"
     ]
    }
   ],
   "source": [
    "print('Not assigned Neighborhood      ->', (df['Neighborhood'] == 'Not assigned').sum(),\n",
    "      '\\nNeighborhood equals to Borough ->', (df['Neighborhood'] == df['Borough']).sum(),\n",
    "      '\\nFinal dataframe shape:', df.shape\n",
    "     )"
   ]
  },
  {
   "cell_type": "markdown",
   "metadata": {},
   "source": [
    "***\n",
    "<div id='2nd'/>\n",
    "\n",
    "### Second part\n",
    "\n",
    "***"
   ]
  },
  {
   "cell_type": "code",
   "execution_count": 7,
   "metadata": {},
   "outputs": [],
   "source": [
    "import geocoder"
   ]
  },
  {
   "cell_type": "markdown",
   "metadata": {},
   "source": [
    "In this session, we'll complement `df` with coordinates to use in Foursquare API.\n",
    "\n",
    "First, let's crate a new df `df2` to receive previous data plus coordinates:"
   ]
  },
  {
   "cell_type": "code",
   "execution_count": 108,
   "metadata": {},
   "outputs": [
    {
     "data": {
      "text/html": [
       "<div>\n",
       "<style scoped>\n",
       "    .dataframe tbody tr th:only-of-type {\n",
       "        vertical-align: middle;\n",
       "    }\n",
       "\n",
       "    .dataframe tbody tr th {\n",
       "        vertical-align: top;\n",
       "    }\n",
       "\n",
       "    .dataframe thead th {\n",
       "        text-align: right;\n",
       "    }\n",
       "</style>\n",
       "<table border=\"1\" class=\"dataframe\">\n",
       "  <thead>\n",
       "    <tr style=\"text-align: right;\">\n",
       "      <th></th>\n",
       "      <th>PostalCode</th>\n",
       "      <th>Borough</th>\n",
       "      <th>Neighborhood</th>\n",
       "      <th>Latitude</th>\n",
       "      <th>Longitude</th>\n",
       "    </tr>\n",
       "  </thead>\n",
       "  <tbody>\n",
       "  </tbody>\n",
       "</table>\n",
       "</div>"
      ],
      "text/plain": [
       "Empty DataFrame\n",
       "Columns: [PostalCode, Borough, Neighborhood, Latitude, Longitude]\n",
       "Index: []"
      ]
     },
     "execution_count": 108,
     "metadata": {},
     "output_type": "execute_result"
    }
   ],
   "source": [
    "column_names = ['PostalCode','Borough','Neighborhood', 'Latitude', 'Longitude']\n",
    "df2 = pd.DataFrame(columns=column_names)\n",
    "df2.head()"
   ]
  },
  {
   "cell_type": "markdown",
   "metadata": {},
   "source": [
    "The [course task](https://www.coursera.org/learn/applied-data-science-capstone/peer/I1bDq/segmenting-and-clustering-neighborhoods-in-toronto/submit) asked to use geocoder library to retrieve coordinates to every one of the 103 samples. "
   ]
  },
  {
   "cell_type": "code",
   "execution_count": 14,
   "metadata": {},
   "outputs": [],
   "source": [
    "#lat_lng_coords = None\n",
    "\n",
    "#while(lat_lng_coords is None):\n",
    "#    g = geocoder.google('M5A, Toronto, Ontario')\n",
    "#    lat_lng_coords = g.latling\n",
    "    \n",
    "#print(g.latlng)"
   ]
  },
  {
   "cell_type": "markdown",
   "metadata": {},
   "source": [
    "Since it took over 10 minutes to complete the code above for only 1 sample _(in 18/08/2020, 10h30)_, it will be used the provided [coordinates dataset](https://cocl.us/Geospatial_data) from __Cognitive Class__ (Coursera)."
   ]
  },
  {
   "cell_type": "code",
   "execution_count": 38,
   "metadata": {},
   "outputs": [
    {
     "data": {
      "text/html": [
       "<div>\n",
       "<style scoped>\n",
       "    .dataframe tbody tr th:only-of-type {\n",
       "        vertical-align: middle;\n",
       "    }\n",
       "\n",
       "    .dataframe tbody tr th {\n",
       "        vertical-align: top;\n",
       "    }\n",
       "\n",
       "    .dataframe thead th {\n",
       "        text-align: right;\n",
       "    }\n",
       "</style>\n",
       "<table border=\"1\" class=\"dataframe\">\n",
       "  <thead>\n",
       "    <tr style=\"text-align: right;\">\n",
       "      <th></th>\n",
       "      <th>Postal Code</th>\n",
       "      <th>Latitude</th>\n",
       "      <th>Longitude</th>\n",
       "    </tr>\n",
       "  </thead>\n",
       "  <tbody>\n",
       "    <tr>\n",
       "      <th>0</th>\n",
       "      <td>M1B</td>\n",
       "      <td>43.806686</td>\n",
       "      <td>-79.194353</td>\n",
       "    </tr>\n",
       "    <tr>\n",
       "      <th>1</th>\n",
       "      <td>M1C</td>\n",
       "      <td>43.784535</td>\n",
       "      <td>-79.160497</td>\n",
       "    </tr>\n",
       "    <tr>\n",
       "      <th>2</th>\n",
       "      <td>M1E</td>\n",
       "      <td>43.763573</td>\n",
       "      <td>-79.188711</td>\n",
       "    </tr>\n",
       "    <tr>\n",
       "      <th>3</th>\n",
       "      <td>M1G</td>\n",
       "      <td>43.770992</td>\n",
       "      <td>-79.216917</td>\n",
       "    </tr>\n",
       "    <tr>\n",
       "      <th>4</th>\n",
       "      <td>M1H</td>\n",
       "      <td>43.773136</td>\n",
       "      <td>-79.239476</td>\n",
       "    </tr>\n",
       "  </tbody>\n",
       "</table>\n",
       "</div>"
      ],
      "text/plain": [
       "  Postal Code   Latitude  Longitude\n",
       "0         M1B  43.806686 -79.194353\n",
       "1         M1C  43.784535 -79.160497\n",
       "2         M1E  43.763573 -79.188711\n",
       "3         M1G  43.770992 -79.216917\n",
       "4         M1H  43.773136 -79.239476"
      ]
     },
     "execution_count": 38,
     "metadata": {},
     "output_type": "execute_result"
    }
   ],
   "source": [
    "latlong = pd.read_csv('https://cocl.us/Geospatial_data')\n",
    "latlong.head()"
   ]
  },
  {
   "cell_type": "markdown",
   "metadata": {},
   "source": [
    "Let's merge `df` and `latlong` datasets according their _PostalCode_ and create the new `df2`:"
   ]
  },
  {
   "cell_type": "code",
   "execution_count": 109,
   "metadata": {},
   "outputs": [],
   "source": [
    "for i, sample in enumerate(df['PostalCode']):\n",
    "    df2 = df2.append({'PostalCode': sample,\n",
    "                      'Borough': df['Borough'].iloc[i],\n",
    "                      'Neighborhood': df['Neighborhood'].iloc[i],\n",
    "                      'Latitude': float(latlong['Latitude'].loc[latlong['Postal Code'] == sample].values),\n",
    "                      'Longitude': float(latlong['Longitude'].loc[latlong['Postal Code'] == sample].values)}, ignore_index=True)"
   ]
  },
  {
   "cell_type": "code",
   "execution_count": 111,
   "metadata": {},
   "outputs": [
    {
     "data": {
      "text/html": [
       "<div>\n",
       "<style scoped>\n",
       "    .dataframe tbody tr th:only-of-type {\n",
       "        vertical-align: middle;\n",
       "    }\n",
       "\n",
       "    .dataframe tbody tr th {\n",
       "        vertical-align: top;\n",
       "    }\n",
       "\n",
       "    .dataframe thead th {\n",
       "        text-align: right;\n",
       "    }\n",
       "</style>\n",
       "<table border=\"1\" class=\"dataframe\">\n",
       "  <thead>\n",
       "    <tr style=\"text-align: right;\">\n",
       "      <th></th>\n",
       "      <th>PostalCode</th>\n",
       "      <th>Borough</th>\n",
       "      <th>Neighborhood</th>\n",
       "      <th>Latitude</th>\n",
       "      <th>Longitude</th>\n",
       "    </tr>\n",
       "  </thead>\n",
       "  <tbody>\n",
       "    <tr>\n",
       "      <th>0</th>\n",
       "      <td>M3A</td>\n",
       "      <td>North York</td>\n",
       "      <td>Parkwoods</td>\n",
       "      <td>43.753259</td>\n",
       "      <td>-79.329656</td>\n",
       "    </tr>\n",
       "    <tr>\n",
       "      <th>1</th>\n",
       "      <td>M4A</td>\n",
       "      <td>North York</td>\n",
       "      <td>Victoria Village</td>\n",
       "      <td>43.725882</td>\n",
       "      <td>-79.315572</td>\n",
       "    </tr>\n",
       "    <tr>\n",
       "      <th>2</th>\n",
       "      <td>M5A</td>\n",
       "      <td>Downtown Toronto</td>\n",
       "      <td>Regent Park, Harbourfront</td>\n",
       "      <td>43.654260</td>\n",
       "      <td>-79.360636</td>\n",
       "    </tr>\n",
       "    <tr>\n",
       "      <th>3</th>\n",
       "      <td>M6A</td>\n",
       "      <td>North York</td>\n",
       "      <td>Lawrence Manor, Lawrence Heights</td>\n",
       "      <td>43.718518</td>\n",
       "      <td>-79.464763</td>\n",
       "    </tr>\n",
       "    <tr>\n",
       "      <th>4</th>\n",
       "      <td>M7A</td>\n",
       "      <td>Downtown Toronto</td>\n",
       "      <td>Queen's Park, Ontario Provincial Government</td>\n",
       "      <td>43.662301</td>\n",
       "      <td>-79.389494</td>\n",
       "    </tr>\n",
       "    <tr>\n",
       "      <th>5</th>\n",
       "      <td>M9A</td>\n",
       "      <td>Etobicoke</td>\n",
       "      <td>Islington Avenue, Humber Valley Village</td>\n",
       "      <td>43.667856</td>\n",
       "      <td>-79.532242</td>\n",
       "    </tr>\n",
       "    <tr>\n",
       "      <th>6</th>\n",
       "      <td>M1B</td>\n",
       "      <td>Scarborough</td>\n",
       "      <td>Malvern, Rouge</td>\n",
       "      <td>43.806686</td>\n",
       "      <td>-79.194353</td>\n",
       "    </tr>\n",
       "    <tr>\n",
       "      <th>7</th>\n",
       "      <td>M3B</td>\n",
       "      <td>North York</td>\n",
       "      <td>Don Mills</td>\n",
       "      <td>43.745906</td>\n",
       "      <td>-79.352188</td>\n",
       "    </tr>\n",
       "    <tr>\n",
       "      <th>8</th>\n",
       "      <td>M4B</td>\n",
       "      <td>East York</td>\n",
       "      <td>Parkview Hill, Woodbine Gardens</td>\n",
       "      <td>43.706397</td>\n",
       "      <td>-79.309937</td>\n",
       "    </tr>\n",
       "    <tr>\n",
       "      <th>9</th>\n",
       "      <td>M5B</td>\n",
       "      <td>Downtown Toronto</td>\n",
       "      <td>Garden District, Ryerson</td>\n",
       "      <td>43.657162</td>\n",
       "      <td>-79.378937</td>\n",
       "    </tr>\n",
       "    <tr>\n",
       "      <th>10</th>\n",
       "      <td>M6B</td>\n",
       "      <td>North York</td>\n",
       "      <td>Glencairn</td>\n",
       "      <td>43.709577</td>\n",
       "      <td>-79.445073</td>\n",
       "    </tr>\n",
       "  </tbody>\n",
       "</table>\n",
       "</div>"
      ],
      "text/plain": [
       "   PostalCode           Borough                                 Neighborhood  \\\n",
       "0         M3A        North York                                    Parkwoods   \n",
       "1         M4A        North York                             Victoria Village   \n",
       "2         M5A  Downtown Toronto                    Regent Park, Harbourfront   \n",
       "3         M6A        North York             Lawrence Manor, Lawrence Heights   \n",
       "4         M7A  Downtown Toronto  Queen's Park, Ontario Provincial Government   \n",
       "5         M9A         Etobicoke      Islington Avenue, Humber Valley Village   \n",
       "6         M1B       Scarborough                               Malvern, Rouge   \n",
       "7         M3B        North York                                    Don Mills   \n",
       "8         M4B         East York              Parkview Hill, Woodbine Gardens   \n",
       "9         M5B  Downtown Toronto                     Garden District, Ryerson   \n",
       "10        M6B        North York                                    Glencairn   \n",
       "\n",
       "     Latitude  Longitude  \n",
       "0   43.753259 -79.329656  \n",
       "1   43.725882 -79.315572  \n",
       "2   43.654260 -79.360636  \n",
       "3   43.718518 -79.464763  \n",
       "4   43.662301 -79.389494  \n",
       "5   43.667856 -79.532242  \n",
       "6   43.806686 -79.194353  \n",
       "7   43.745906 -79.352188  \n",
       "8   43.706397 -79.309937  \n",
       "9   43.657162 -79.378937  \n",
       "10  43.709577 -79.445073  "
      ]
     },
     "execution_count": 111,
     "metadata": {},
     "output_type": "execute_result"
    }
   ],
   "source": [
    "df2.head(11)"
   ]
  },
  {
   "cell_type": "markdown",
   "metadata": {},
   "source": [
    "***\n",
    "<div id='3rd'/>\n",
    "\n",
    "### Third part\n",
    "\n",
    "***"
   ]
  },
  {
   "cell_type": "code",
   "execution_count": 200,
   "metadata": {},
   "outputs": [],
   "source": [
    "import numpy as np\n",
    "import folium\n",
    "import json\n",
    "import requests\n",
    "import matplotlib.cm as cm\n",
    "import matplotlib.colors as colors\n",
    "from sklearn.cluster import KMeans\n",
    "from pandas.io.json import json_normalize # tranform JSON file into a pandas dataframe"
   ]
  },
  {
   "cell_type": "markdown",
   "metadata": {},
   "source": [
    "In this final session, we'll analyse data from North York, Toronto, clusterizing it according to Foursquare categorization.\n",
    "\n",
    "First, let's create a separated dataset `df_ny`:"
   ]
  },
  {
   "cell_type": "code",
   "execution_count": 199,
   "metadata": {},
   "outputs": [
    {
     "data": {
      "text/html": [
       "<div>\n",
       "<style scoped>\n",
       "    .dataframe tbody tr th:only-of-type {\n",
       "        vertical-align: middle;\n",
       "    }\n",
       "\n",
       "    .dataframe tbody tr th {\n",
       "        vertical-align: top;\n",
       "    }\n",
       "\n",
       "    .dataframe thead th {\n",
       "        text-align: right;\n",
       "    }\n",
       "</style>\n",
       "<table border=\"1\" class=\"dataframe\">\n",
       "  <thead>\n",
       "    <tr style=\"text-align: right;\">\n",
       "      <th></th>\n",
       "      <th>PostalCode</th>\n",
       "      <th>Borough</th>\n",
       "      <th>Neighborhood</th>\n",
       "      <th>Latitude</th>\n",
       "      <th>Longitude</th>\n",
       "    </tr>\n",
       "  </thead>\n",
       "  <tbody>\n",
       "    <tr>\n",
       "      <th>0</th>\n",
       "      <td>M3A</td>\n",
       "      <td>North York</td>\n",
       "      <td>Parkwoods</td>\n",
       "      <td>43.753259</td>\n",
       "      <td>-79.329656</td>\n",
       "    </tr>\n",
       "    <tr>\n",
       "      <th>1</th>\n",
       "      <td>M4A</td>\n",
       "      <td>North York</td>\n",
       "      <td>Victoria Village</td>\n",
       "      <td>43.725882</td>\n",
       "      <td>-79.315572</td>\n",
       "    </tr>\n",
       "    <tr>\n",
       "      <th>3</th>\n",
       "      <td>M6A</td>\n",
       "      <td>North York</td>\n",
       "      <td>Lawrence Manor, Lawrence Heights</td>\n",
       "      <td>43.718518</td>\n",
       "      <td>-79.464763</td>\n",
       "    </tr>\n",
       "    <tr>\n",
       "      <th>7</th>\n",
       "      <td>M3B</td>\n",
       "      <td>North York</td>\n",
       "      <td>Don Mills</td>\n",
       "      <td>43.745906</td>\n",
       "      <td>-79.352188</td>\n",
       "    </tr>\n",
       "    <tr>\n",
       "      <th>10</th>\n",
       "      <td>M6B</td>\n",
       "      <td>North York</td>\n",
       "      <td>Glencairn</td>\n",
       "      <td>43.709577</td>\n",
       "      <td>-79.445073</td>\n",
       "    </tr>\n",
       "  </tbody>\n",
       "</table>\n",
       "</div>"
      ],
      "text/plain": [
       "   PostalCode     Borough                      Neighborhood   Latitude  \\\n",
       "0         M3A  North York                         Parkwoods  43.753259   \n",
       "1         M4A  North York                  Victoria Village  43.725882   \n",
       "3         M6A  North York  Lawrence Manor, Lawrence Heights  43.718518   \n",
       "7         M3B  North York                         Don Mills  43.745906   \n",
       "10        M6B  North York                         Glencairn  43.709577   \n",
       "\n",
       "    Longitude  \n",
       "0  -79.329656  \n",
       "1  -79.315572  \n",
       "3  -79.464763  \n",
       "7  -79.352188  \n",
       "10 -79.445073  "
      ]
     },
     "execution_count": 199,
     "metadata": {},
     "output_type": "execute_result"
    }
   ],
   "source": [
    "df_ny = df2[df2['Borough'] == 'North York']\n",
    "df_ny.head()"
   ]
  },
  {
   "cell_type": "markdown",
   "metadata": {},
   "source": [
    "Let's see what we have about Noth York:"
   ]
  },
  {
   "cell_type": "code",
   "execution_count": 201,
   "metadata": {},
   "outputs": [
    {
     "data": {
      "text/html": [
       "<div style=\"width:100%;\"><div style=\"position:relative;width:100%;height:0;padding-bottom:60%;\"><span style=\"color:#565656\">Make this Notebook Trusted to load map: File -> Trust Notebook</span><iframe src=\"about:blank\" style=\"position:absolute;width:100%;height:100%;left:0;top:0;border:none !important;\" data-html=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 onload=\"this.contentDocument.open();this.contentDocument.write(atob(this.getAttribute('data-html')));this.contentDocument.close();\" allowfullscreen webkitallowfullscreen mozallowfullscreen></iframe></div></div>"
      ],
      "text/plain": [
       "<folium.folium.Map at 0x267125cc0f0>"
      ]
     },
     "execution_count": 201,
     "metadata": {},
     "output_type": "execute_result"
    }
   ],
   "source": [
    "latitude = 43.762948\n",
    "longitude = -79.431893\n",
    "\n",
    "map_ny = folium.Map(location=[latitude, longitude], zoom_start=12)\n",
    "\n",
    "for lat, lng, borough, neighborhood in zip(df_ny['Latitude'], df_ny['Longitude'], df_ny['Borough'], df_ny['Neighborhood']):\n",
    "    label = '{}, {}'.format(neighborhood, borough)\n",
    "    label = folium.Popup(label, parse_html=True)\n",
    "    folium.CircleMarker(\n",
    "        [lat, lng],\n",
    "        radius=5,\n",
    "        popup=label,\n",
    "        color='blue',\n",
    "        fill=True,\n",
    "        fill_color='#3186cc',\n",
    "        fill_opacity=0.7,\n",
    "        parse_html=False).add_to(map_ny)  \n",
    "    \n",
    "map_ny"
   ]
  },
  {
   "cell_type": "markdown",
   "metadata": {},
   "source": [
    "Now, we'll get data from Foursquare API to cluster this area."
   ]
  },
  {
   "cell_type": "code",
   "execution_count": 222,
   "metadata": {},
   "outputs": [],
   "source": [
    "# @hidden_cell\n",
    "CLIENT_ID = 'HP2CHSWBWPZAVYIQMEYV2IE1JIAEMRRWX0DVX2LRUTUCS3OC' # your Foursquare ID\n",
    "CLIENT_SECRET = 'ECOO4IJDBU1JRFS21Z41JXVU3N1CCQ5ZGCNB0PULGJUV23QL' # your Foursquare Secret\n",
    "VERSION = '20180605' # Foursquare API version\n",
    "LIMIT = 100 # limit of number of venues returned by Foursquare API\n",
    "radius = 500"
   ]
  },
  {
   "cell_type": "code",
   "execution_count": 203,
   "metadata": {},
   "outputs": [],
   "source": [
    "# function that extracts the category of the venue, from Foursquare lab.\n",
    "def get_category_type(row):\n",
    "    try:\n",
    "        categories_list = row['categories']\n",
    "    except:\n",
    "        categories_list = row['venue.categories']\n",
    "        \n",
    "    if len(categories_list) == 0:\n",
    "        return None\n",
    "    else:\n",
    "        return categories_list[0]['name']\n",
    "\n",
    "    \n",
    "# functions from previous lab\n",
    "\n",
    "# it repeats the get request for all Neighborhoods\n",
    "def getNearbyVenues(names, latitudes, longitudes, radius=500):\n",
    "\n",
    "    venues_list=[]\n",
    "    for name, lat, lng in zip(names, latitudes, longitudes):\n",
    "        print(name)\n",
    "\n",
    "        # create the API request URL\n",
    "        url = 'https://api.foursquare.com/v2/venues/explore?&client_id={}&client_secret={}&v={}&ll={},{}&radius={}&limit={}'.format(\n",
    "            CLIENT_ID, \n",
    "            CLIENT_SECRET, \n",
    "            VERSION, \n",
    "            lat, \n",
    "            lng, \n",
    "            radius, \n",
    "            LIMIT)\n",
    "\n",
    "        # make the GET request\n",
    "        results = requests.get(url).json()[\"response\"]['groups'][0]['items']\n",
    "\n",
    "        # return only relevant information for each nearby venue\n",
    "        venues_list.append([(\n",
    "            name, \n",
    "            lat, \n",
    "            lng, \n",
    "            v['venue']['name'], \n",
    "            v['venue']['location']['lat'], \n",
    "            v['venue']['location']['lng'],  \n",
    "            v['venue']['categories'][0]['name']) for v in results])\n",
    "\n",
    "    nearby_venues = pd.DataFrame([item for venue_list in venues_list for item in venue_list])\n",
    "    nearby_venues.columns = ['Neighborhood', \n",
    "                  'Neighborhood Latitude', \n",
    "                  'Neighborhood Longitude', \n",
    "                  'Venue', \n",
    "                  'Venue Latitude', \n",
    "                  'Venue Longitude', \n",
    "                  'Venue Category']\n",
    "\n",
    "    return(nearby_venues)\n",
    "\n",
    "# it gets the top_venues from a grouped dataframe\n",
    "def return_most_common_venues(row, num_top_venues):\n",
    "    row_categories = row.iloc[1:]\n",
    "    row_categories_sorted = row_categories.sort_values(ascending=False)\n",
    "\n",
    "    return row_categories_sorted.index.values[0:num_top_venues]"
   ]
  },
  {
   "cell_type": "markdown",
   "metadata": {},
   "source": [
    "Here, the `getNearbyVenues` function is used:"
   ]
  },
  {
   "cell_type": "code",
   "execution_count": 204,
   "metadata": {},
   "outputs": [
    {
     "name": "stdout",
     "output_type": "stream",
     "text": [
      "Parkwoods\n",
      "Victoria Village\n",
      "Lawrence Manor, Lawrence Heights\n",
      "Don Mills\n",
      "Glencairn\n",
      "Don Mills\n",
      "Hillcrest Village\n",
      "Bathurst Manor, Wilson Heights, Downsview North\n",
      "Fairview, Henry Farm, Oriole\n",
      "Northwood Park, York University\n",
      "Bayview Village\n",
      "Downsview\n",
      "York Mills, Silver Hills\n",
      "Downsview\n",
      "North Park, Maple Leaf Park, Upwood Park\n",
      "Humber Summit\n",
      "Willowdale, Newtonbrook\n",
      "Downsview\n",
      "Bedford Park, Lawrence Manor East\n",
      "Humberlea, Emery\n",
      "Willowdale, Willowdale East\n",
      "Downsview\n",
      "York Mills West\n",
      "Willowdale, Willowdale West\n"
     ]
    }
   ],
   "source": [
    "ny_venues = getNearbyVenues(names=df_ny['Neighborhood'],\n",
    "                                   latitudes=df_ny['Latitude'],\n",
    "                                   longitudes=df_ny['Longitude']\n",
    "                                  )"
   ]
  },
  {
   "cell_type": "markdown",
   "metadata": {},
   "source": [
    "Let's use one hot encoding and group data for KNN uses:"
   ]
  },
  {
   "cell_type": "code",
   "execution_count": 223,
   "metadata": {},
   "outputs": [
    {
     "data": {
      "text/html": [
       "<div>\n",
       "<style scoped>\n",
       "    .dataframe tbody tr th:only-of-type {\n",
       "        vertical-align: middle;\n",
       "    }\n",
       "\n",
       "    .dataframe tbody tr th {\n",
       "        vertical-align: top;\n",
       "    }\n",
       "\n",
       "    .dataframe thead th {\n",
       "        text-align: right;\n",
       "    }\n",
       "</style>\n",
       "<table border=\"1\" class=\"dataframe\">\n",
       "  <thead>\n",
       "    <tr style=\"text-align: right;\">\n",
       "      <th></th>\n",
       "      <th>Neighborhood</th>\n",
       "      <th>Accessories Store</th>\n",
       "      <th>Airport</th>\n",
       "      <th>American Restaurant</th>\n",
       "      <th>Art Gallery</th>\n",
       "      <th>Arts &amp; Crafts Store</th>\n",
       "      <th>Asian Restaurant</th>\n",
       "      <th>Athletics &amp; Sports</th>\n",
       "      <th>Bakery</th>\n",
       "      <th>Bank</th>\n",
       "      <th>...</th>\n",
       "      <th>Supermarket</th>\n",
       "      <th>Supplement Shop</th>\n",
       "      <th>Sushi Restaurant</th>\n",
       "      <th>Tea Room</th>\n",
       "      <th>Thai Restaurant</th>\n",
       "      <th>Theater</th>\n",
       "      <th>Toy / Game Store</th>\n",
       "      <th>Video Game Store</th>\n",
       "      <th>Vietnamese Restaurant</th>\n",
       "      <th>Women's Store</th>\n",
       "    </tr>\n",
       "  </thead>\n",
       "  <tbody>\n",
       "    <tr>\n",
       "      <th>0</th>\n",
       "      <td>Bathurst Manor, Wilson Heights, Downsview North</td>\n",
       "      <td>0.0</td>\n",
       "      <td>0.000000</td>\n",
       "      <td>0.000000</td>\n",
       "      <td>0.000000</td>\n",
       "      <td>0.0</td>\n",
       "      <td>0.000000</td>\n",
       "      <td>0.000000</td>\n",
       "      <td>0.0</td>\n",
       "      <td>0.095238</td>\n",
       "      <td>...</td>\n",
       "      <td>0.047619</td>\n",
       "      <td>0.0</td>\n",
       "      <td>0.047619</td>\n",
       "      <td>0.0</td>\n",
       "      <td>0.000000</td>\n",
       "      <td>0.0</td>\n",
       "      <td>0.0</td>\n",
       "      <td>0.0</td>\n",
       "      <td>0.0</td>\n",
       "      <td>0.0</td>\n",
       "    </tr>\n",
       "    <tr>\n",
       "      <th>1</th>\n",
       "      <td>Bayview Village</td>\n",
       "      <td>0.0</td>\n",
       "      <td>0.000000</td>\n",
       "      <td>0.000000</td>\n",
       "      <td>0.000000</td>\n",
       "      <td>0.0</td>\n",
       "      <td>0.000000</td>\n",
       "      <td>0.000000</td>\n",
       "      <td>0.0</td>\n",
       "      <td>0.250000</td>\n",
       "      <td>...</td>\n",
       "      <td>0.000000</td>\n",
       "      <td>0.0</td>\n",
       "      <td>0.000000</td>\n",
       "      <td>0.0</td>\n",
       "      <td>0.000000</td>\n",
       "      <td>0.0</td>\n",
       "      <td>0.0</td>\n",
       "      <td>0.0</td>\n",
       "      <td>0.0</td>\n",
       "      <td>0.0</td>\n",
       "    </tr>\n",
       "    <tr>\n",
       "      <th>2</th>\n",
       "      <td>Bedford Park, Lawrence Manor East</td>\n",
       "      <td>0.0</td>\n",
       "      <td>0.000000</td>\n",
       "      <td>0.041667</td>\n",
       "      <td>0.000000</td>\n",
       "      <td>0.0</td>\n",
       "      <td>0.000000</td>\n",
       "      <td>0.000000</td>\n",
       "      <td>0.0</td>\n",
       "      <td>0.000000</td>\n",
       "      <td>...</td>\n",
       "      <td>0.000000</td>\n",
       "      <td>0.0</td>\n",
       "      <td>0.041667</td>\n",
       "      <td>0.0</td>\n",
       "      <td>0.041667</td>\n",
       "      <td>0.0</td>\n",
       "      <td>0.0</td>\n",
       "      <td>0.0</td>\n",
       "      <td>0.0</td>\n",
       "      <td>0.0</td>\n",
       "    </tr>\n",
       "    <tr>\n",
       "      <th>3</th>\n",
       "      <td>Don Mills</td>\n",
       "      <td>0.0</td>\n",
       "      <td>0.000000</td>\n",
       "      <td>0.000000</td>\n",
       "      <td>0.037037</td>\n",
       "      <td>0.0</td>\n",
       "      <td>0.037037</td>\n",
       "      <td>0.000000</td>\n",
       "      <td>0.0</td>\n",
       "      <td>0.000000</td>\n",
       "      <td>...</td>\n",
       "      <td>0.037037</td>\n",
       "      <td>0.0</td>\n",
       "      <td>0.000000</td>\n",
       "      <td>0.0</td>\n",
       "      <td>0.000000</td>\n",
       "      <td>0.0</td>\n",
       "      <td>0.0</td>\n",
       "      <td>0.0</td>\n",
       "      <td>0.0</td>\n",
       "      <td>0.0</td>\n",
       "    </tr>\n",
       "    <tr>\n",
       "      <th>4</th>\n",
       "      <td>Downsview</td>\n",
       "      <td>0.0</td>\n",
       "      <td>0.066667</td>\n",
       "      <td>0.000000</td>\n",
       "      <td>0.000000</td>\n",
       "      <td>0.0</td>\n",
       "      <td>0.000000</td>\n",
       "      <td>0.066667</td>\n",
       "      <td>0.0</td>\n",
       "      <td>0.066667</td>\n",
       "      <td>...</td>\n",
       "      <td>0.000000</td>\n",
       "      <td>0.0</td>\n",
       "      <td>0.000000</td>\n",
       "      <td>0.0</td>\n",
       "      <td>0.000000</td>\n",
       "      <td>0.0</td>\n",
       "      <td>0.0</td>\n",
       "      <td>0.0</td>\n",
       "      <td>0.0</td>\n",
       "      <td>0.0</td>\n",
       "    </tr>\n",
       "  </tbody>\n",
       "</table>\n",
       "<p>5 rows × 102 columns</p>\n",
       "</div>"
      ],
      "text/plain": [
       "                                      Neighborhood  Accessories Store  \\\n",
       "0  Bathurst Manor, Wilson Heights, Downsview North                0.0   \n",
       "1                                  Bayview Village                0.0   \n",
       "2                Bedford Park, Lawrence Manor East                0.0   \n",
       "3                                        Don Mills                0.0   \n",
       "4                                        Downsview                0.0   \n",
       "\n",
       "    Airport  American Restaurant  Art Gallery  Arts & Crafts Store  \\\n",
       "0  0.000000             0.000000     0.000000                  0.0   \n",
       "1  0.000000             0.000000     0.000000                  0.0   \n",
       "2  0.000000             0.041667     0.000000                  0.0   \n",
       "3  0.000000             0.000000     0.037037                  0.0   \n",
       "4  0.066667             0.000000     0.000000                  0.0   \n",
       "\n",
       "   Asian Restaurant  Athletics & Sports  Bakery      Bank  ...  Supermarket  \\\n",
       "0          0.000000            0.000000     0.0  0.095238  ...     0.047619   \n",
       "1          0.000000            0.000000     0.0  0.250000  ...     0.000000   \n",
       "2          0.000000            0.000000     0.0  0.000000  ...     0.000000   \n",
       "3          0.037037            0.000000     0.0  0.000000  ...     0.037037   \n",
       "4          0.000000            0.066667     0.0  0.066667  ...     0.000000   \n",
       "\n",
       "   Supplement Shop  Sushi Restaurant  Tea Room  Thai Restaurant  Theater  \\\n",
       "0              0.0          0.047619       0.0         0.000000      0.0   \n",
       "1              0.0          0.000000       0.0         0.000000      0.0   \n",
       "2              0.0          0.041667       0.0         0.041667      0.0   \n",
       "3              0.0          0.000000       0.0         0.000000      0.0   \n",
       "4              0.0          0.000000       0.0         0.000000      0.0   \n",
       "\n",
       "   Toy / Game Store  Video Game Store  Vietnamese Restaurant  Women's Store  \n",
       "0               0.0               0.0                    0.0            0.0  \n",
       "1               0.0               0.0                    0.0            0.0  \n",
       "2               0.0               0.0                    0.0            0.0  \n",
       "3               0.0               0.0                    0.0            0.0  \n",
       "4               0.0               0.0                    0.0            0.0  \n",
       "\n",
       "[5 rows x 102 columns]"
      ]
     },
     "execution_count": 223,
     "metadata": {},
     "output_type": "execute_result"
    }
   ],
   "source": [
    "ny_onehot = pd.get_dummies(ny_venues[['Venue Category']], prefix=\"\", prefix_sep=\"\")\n",
    "\n",
    "ny_onehot['Neighborhood'] = ny_venues['Neighborhood'] \n",
    "\n",
    "fixed_columns = [ny_onehot.columns[-1]] + list(ny_onehot.columns[:-1])\n",
    "ny_onehot = ny_onehot[fixed_columns]\n",
    "\n",
    "ny_grouped = ny_onehot.groupby('Neighborhood').mean().reset_index()\n",
    "ny_grouped.head()"
   ]
  },
  {
   "cell_type": "markdown",
   "metadata": {},
   "source": [
    "And then, let's fix data to it can be processed:"
   ]
  },
  {
   "cell_type": "code",
   "execution_count": 208,
   "metadata": {},
   "outputs": [
    {
     "data": {
      "text/html": [
       "<div>\n",
       "<style scoped>\n",
       "    .dataframe tbody tr th:only-of-type {\n",
       "        vertical-align: middle;\n",
       "    }\n",
       "\n",
       "    .dataframe tbody tr th {\n",
       "        vertical-align: top;\n",
       "    }\n",
       "\n",
       "    .dataframe thead th {\n",
       "        text-align: right;\n",
       "    }\n",
       "</style>\n",
       "<table border=\"1\" class=\"dataframe\">\n",
       "  <thead>\n",
       "    <tr style=\"text-align: right;\">\n",
       "      <th></th>\n",
       "      <th>Neighborhood</th>\n",
       "      <th>1st Most Common Venue</th>\n",
       "      <th>2nd Most Common Venue</th>\n",
       "      <th>3rd Most Common Venue</th>\n",
       "      <th>4th Most Common Venue</th>\n",
       "      <th>5th Most Common Venue</th>\n",
       "      <th>6th Most Common Venue</th>\n",
       "      <th>7th Most Common Venue</th>\n",
       "      <th>8th Most Common Venue</th>\n",
       "      <th>9th Most Common Venue</th>\n",
       "      <th>10th Most Common Venue</th>\n",
       "    </tr>\n",
       "  </thead>\n",
       "  <tbody>\n",
       "    <tr>\n",
       "      <th>0</th>\n",
       "      <td>Bathurst Manor, Wilson Heights, Downsview North</td>\n",
       "      <td>Coffee Shop</td>\n",
       "      <td>Bank</td>\n",
       "      <td>Mobile Phone Shop</td>\n",
       "      <td>Shopping Mall</td>\n",
       "      <td>Middle Eastern Restaurant</td>\n",
       "      <td>Park</td>\n",
       "      <td>Pet Store</td>\n",
       "      <td>Pharmacy</td>\n",
       "      <td>Pizza Place</td>\n",
       "      <td>Bridal Shop</td>\n",
       "    </tr>\n",
       "    <tr>\n",
       "      <th>1</th>\n",
       "      <td>Bayview Village</td>\n",
       "      <td>Chinese Restaurant</td>\n",
       "      <td>Bank</td>\n",
       "      <td>Café</td>\n",
       "      <td>Japanese Restaurant</td>\n",
       "      <td>French Restaurant</td>\n",
       "      <td>Food Truck</td>\n",
       "      <td>Comfort Food Restaurant</td>\n",
       "      <td>Furniture / Home Store</td>\n",
       "      <td>Construction &amp; Landscaping</td>\n",
       "      <td>Convenience Store</td>\n",
       "    </tr>\n",
       "    <tr>\n",
       "      <th>2</th>\n",
       "      <td>Bedford Park, Lawrence Manor East</td>\n",
       "      <td>Restaurant</td>\n",
       "      <td>Sandwich Place</td>\n",
       "      <td>Coffee Shop</td>\n",
       "      <td>Italian Restaurant</td>\n",
       "      <td>Juice Bar</td>\n",
       "      <td>Café</td>\n",
       "      <td>Butcher</td>\n",
       "      <td>Comfort Food Restaurant</td>\n",
       "      <td>Pharmacy</td>\n",
       "      <td>Pizza Place</td>\n",
       "    </tr>\n",
       "    <tr>\n",
       "      <th>3</th>\n",
       "      <td>Don Mills</td>\n",
       "      <td>Gym</td>\n",
       "      <td>Restaurant</td>\n",
       "      <td>Coffee Shop</td>\n",
       "      <td>Japanese Restaurant</td>\n",
       "      <td>Beer Store</td>\n",
       "      <td>Sandwich Place</td>\n",
       "      <td>Clothing Store</td>\n",
       "      <td>Chinese Restaurant</td>\n",
       "      <td>Caribbean Restaurant</td>\n",
       "      <td>Italian Restaurant</td>\n",
       "    </tr>\n",
       "    <tr>\n",
       "      <th>4</th>\n",
       "      <td>Downsview</td>\n",
       "      <td>Grocery Store</td>\n",
       "      <td>Park</td>\n",
       "      <td>Gym / Fitness Center</td>\n",
       "      <td>Discount Store</td>\n",
       "      <td>Korean Restaurant</td>\n",
       "      <td>Liquor Store</td>\n",
       "      <td>Shopping Mall</td>\n",
       "      <td>Baseball Field</td>\n",
       "      <td>Bank</td>\n",
       "      <td>Athletics &amp; Sports</td>\n",
       "    </tr>\n",
       "  </tbody>\n",
       "</table>\n",
       "</div>"
      ],
      "text/plain": [
       "                                      Neighborhood 1st Most Common Venue  \\\n",
       "0  Bathurst Manor, Wilson Heights, Downsview North           Coffee Shop   \n",
       "1                                  Bayview Village    Chinese Restaurant   \n",
       "2                Bedford Park, Lawrence Manor East            Restaurant   \n",
       "3                                        Don Mills                   Gym   \n",
       "4                                        Downsview         Grocery Store   \n",
       "\n",
       "  2nd Most Common Venue 3rd Most Common Venue 4th Most Common Venue  \\\n",
       "0                  Bank     Mobile Phone Shop         Shopping Mall   \n",
       "1                  Bank                  Café   Japanese Restaurant   \n",
       "2        Sandwich Place           Coffee Shop    Italian Restaurant   \n",
       "3            Restaurant           Coffee Shop   Japanese Restaurant   \n",
       "4                  Park  Gym / Fitness Center        Discount Store   \n",
       "\n",
       "       5th Most Common Venue 6th Most Common Venue    7th Most Common Venue  \\\n",
       "0  Middle Eastern Restaurant                  Park                Pet Store   \n",
       "1          French Restaurant            Food Truck  Comfort Food Restaurant   \n",
       "2                  Juice Bar                  Café                  Butcher   \n",
       "3                 Beer Store        Sandwich Place           Clothing Store   \n",
       "4          Korean Restaurant          Liquor Store            Shopping Mall   \n",
       "\n",
       "     8th Most Common Venue       9th Most Common Venue 10th Most Common Venue  \n",
       "0                 Pharmacy                 Pizza Place            Bridal Shop  \n",
       "1   Furniture / Home Store  Construction & Landscaping      Convenience Store  \n",
       "2  Comfort Food Restaurant                    Pharmacy            Pizza Place  \n",
       "3       Chinese Restaurant        Caribbean Restaurant     Italian Restaurant  \n",
       "4           Baseball Field                        Bank     Athletics & Sports  "
      ]
     },
     "execution_count": 208,
     "metadata": {},
     "output_type": "execute_result"
    }
   ],
   "source": [
    "num_top_venues = 10\n",
    "indicators = ['st', 'nd', 'rd']\n",
    "\n",
    "# create columns according to number of top venues\n",
    "columns = ['Neighborhood']\n",
    "for ind in np.arange(num_top_venues):\n",
    "    try:\n",
    "        columns.append('{}{} Most Common Venue'.format(ind+1, indicators[ind]))\n",
    "    except:\n",
    "        columns.append('{}th Most Common Venue'.format(ind+1))\n",
    "\n",
    "# create a new dataframe\n",
    "neighborhoods_venues_sorted = pd.DataFrame(columns=columns)\n",
    "neighborhoods_venues_sorted['Neighborhood'] = ny_grouped['Neighborhood']\n",
    "\n",
    "for ind in np.arange(ny_grouped.shape[0]):\n",
    "    neighborhoods_venues_sorted.iloc[ind, 1:] = return_most_common_venues(ny_grouped.iloc[ind, :], num_top_venues)\n",
    "\n",
    "neighborhoods_venues_sorted.head()"
   ]
  },
  {
   "cell_type": "markdown",
   "metadata": {},
   "source": [
    "Once we have the information, we can build our model and see the ten first results:"
   ]
  },
  {
   "cell_type": "code",
   "execution_count": 225,
   "metadata": {},
   "outputs": [
    {
     "data": {
      "text/plain": [
       "array([0, 0, 0, 0, 0, 0, 3, 0, 4, 2])"
      ]
     },
     "execution_count": 225,
     "metadata": {},
     "output_type": "execute_result"
    }
   ],
   "source": [
    "kclusters = 5\n",
    "ny_grouped_clustering = ny_grouped.drop('Neighborhood', 1)\n",
    "kmeans = KMeans(n_clusters=kclusters, random_state=0).fit(ny_grouped_clustering)\n",
    "kmeans.labels_[0:10] "
   ]
  },
  {
   "cell_type": "markdown",
   "metadata": {},
   "source": [
    "Now, let's merge all data in a single dataframe:"
   ]
  },
  {
   "cell_type": "code",
   "execution_count": 210,
   "metadata": {},
   "outputs": [
    {
     "data": {
      "text/html": [
       "<div>\n",
       "<style scoped>\n",
       "    .dataframe tbody tr th:only-of-type {\n",
       "        vertical-align: middle;\n",
       "    }\n",
       "\n",
       "    .dataframe tbody tr th {\n",
       "        vertical-align: top;\n",
       "    }\n",
       "\n",
       "    .dataframe thead th {\n",
       "        text-align: right;\n",
       "    }\n",
       "</style>\n",
       "<table border=\"1\" class=\"dataframe\">\n",
       "  <thead>\n",
       "    <tr style=\"text-align: right;\">\n",
       "      <th></th>\n",
       "      <th>PostalCode</th>\n",
       "      <th>Borough</th>\n",
       "      <th>Neighborhood</th>\n",
       "      <th>Latitude</th>\n",
       "      <th>Longitude</th>\n",
       "      <th>Cluster Labels</th>\n",
       "      <th>1st Most Common Venue</th>\n",
       "      <th>2nd Most Common Venue</th>\n",
       "      <th>3rd Most Common Venue</th>\n",
       "      <th>4th Most Common Venue</th>\n",
       "      <th>5th Most Common Venue</th>\n",
       "      <th>6th Most Common Venue</th>\n",
       "      <th>7th Most Common Venue</th>\n",
       "      <th>8th Most Common Venue</th>\n",
       "      <th>9th Most Common Venue</th>\n",
       "      <th>10th Most Common Venue</th>\n",
       "    </tr>\n",
       "  </thead>\n",
       "  <tbody>\n",
       "    <tr>\n",
       "      <th>0</th>\n",
       "      <td>M3A</td>\n",
       "      <td>North York</td>\n",
       "      <td>Parkwoods</td>\n",
       "      <td>43.753259</td>\n",
       "      <td>-79.329656</td>\n",
       "      <td>0</td>\n",
       "      <td>Bus Stop</td>\n",
       "      <td>Food &amp; Drink Shop</td>\n",
       "      <td>Fast Food Restaurant</td>\n",
       "      <td>Park</td>\n",
       "      <td>Women's Store</td>\n",
       "      <td>Dim Sum Restaurant</td>\n",
       "      <td>Clothing Store</td>\n",
       "      <td>Coffee Shop</td>\n",
       "      <td>Comfort Food Restaurant</td>\n",
       "      <td>Construction &amp; Landscaping</td>\n",
       "    </tr>\n",
       "    <tr>\n",
       "      <th>1</th>\n",
       "      <td>M4A</td>\n",
       "      <td>North York</td>\n",
       "      <td>Victoria Village</td>\n",
       "      <td>43.725882</td>\n",
       "      <td>-79.315572</td>\n",
       "      <td>0</td>\n",
       "      <td>French Restaurant</td>\n",
       "      <td>Coffee Shop</td>\n",
       "      <td>Hockey Arena</td>\n",
       "      <td>Portuguese Restaurant</td>\n",
       "      <td>Women's Store</td>\n",
       "      <td>Diner</td>\n",
       "      <td>Clothing Store</td>\n",
       "      <td>Comfort Food Restaurant</td>\n",
       "      <td>Construction &amp; Landscaping</td>\n",
       "      <td>Convenience Store</td>\n",
       "    </tr>\n",
       "    <tr>\n",
       "      <th>3</th>\n",
       "      <td>M6A</td>\n",
       "      <td>North York</td>\n",
       "      <td>Lawrence Manor, Lawrence Heights</td>\n",
       "      <td>43.718518</td>\n",
       "      <td>-79.464763</td>\n",
       "      <td>0</td>\n",
       "      <td>Clothing Store</td>\n",
       "      <td>Furniture / Home Store</td>\n",
       "      <td>Accessories Store</td>\n",
       "      <td>Boutique</td>\n",
       "      <td>Event Space</td>\n",
       "      <td>Coffee Shop</td>\n",
       "      <td>Vietnamese Restaurant</td>\n",
       "      <td>Athletics &amp; Sports</td>\n",
       "      <td>Bakery</td>\n",
       "      <td>Convenience Store</td>\n",
       "    </tr>\n",
       "    <tr>\n",
       "      <th>7</th>\n",
       "      <td>M3B</td>\n",
       "      <td>North York</td>\n",
       "      <td>Don Mills</td>\n",
       "      <td>43.745906</td>\n",
       "      <td>-79.352188</td>\n",
       "      <td>0</td>\n",
       "      <td>Gym</td>\n",
       "      <td>Restaurant</td>\n",
       "      <td>Coffee Shop</td>\n",
       "      <td>Japanese Restaurant</td>\n",
       "      <td>Beer Store</td>\n",
       "      <td>Sandwich Place</td>\n",
       "      <td>Clothing Store</td>\n",
       "      <td>Chinese Restaurant</td>\n",
       "      <td>Caribbean Restaurant</td>\n",
       "      <td>Italian Restaurant</td>\n",
       "    </tr>\n",
       "    <tr>\n",
       "      <th>10</th>\n",
       "      <td>M6B</td>\n",
       "      <td>North York</td>\n",
       "      <td>Glencairn</td>\n",
       "      <td>43.709577</td>\n",
       "      <td>-79.445073</td>\n",
       "      <td>3</td>\n",
       "      <td>Park</td>\n",
       "      <td>Japanese Restaurant</td>\n",
       "      <td>Bakery</td>\n",
       "      <td>Pub</td>\n",
       "      <td>Clothing Store</td>\n",
       "      <td>Coffee Shop</td>\n",
       "      <td>Comfort Food Restaurant</td>\n",
       "      <td>Construction &amp; Landscaping</td>\n",
       "      <td>Convenience Store</td>\n",
       "      <td>Cosmetics Shop</td>\n",
       "    </tr>\n",
       "  </tbody>\n",
       "</table>\n",
       "</div>"
      ],
      "text/plain": [
       "   PostalCode     Borough                      Neighborhood   Latitude  \\\n",
       "0         M3A  North York                         Parkwoods  43.753259   \n",
       "1         M4A  North York                  Victoria Village  43.725882   \n",
       "3         M6A  North York  Lawrence Manor, Lawrence Heights  43.718518   \n",
       "7         M3B  North York                         Don Mills  43.745906   \n",
       "10        M6B  North York                         Glencairn  43.709577   \n",
       "\n",
       "    Longitude  Cluster Labels 1st Most Common Venue   2nd Most Common Venue  \\\n",
       "0  -79.329656               0              Bus Stop       Food & Drink Shop   \n",
       "1  -79.315572               0     French Restaurant             Coffee Shop   \n",
       "3  -79.464763               0        Clothing Store  Furniture / Home Store   \n",
       "7  -79.352188               0                   Gym              Restaurant   \n",
       "10 -79.445073               3                  Park     Japanese Restaurant   \n",
       "\n",
       "   3rd Most Common Venue  4th Most Common Venue 5th Most Common Venue  \\\n",
       "0   Fast Food Restaurant                   Park         Women's Store   \n",
       "1           Hockey Arena  Portuguese Restaurant         Women's Store   \n",
       "3      Accessories Store               Boutique           Event Space   \n",
       "7            Coffee Shop    Japanese Restaurant            Beer Store   \n",
       "10                Bakery                    Pub        Clothing Store   \n",
       "\n",
       "   6th Most Common Venue    7th Most Common Venue       8th Most Common Venue  \\\n",
       "0     Dim Sum Restaurant           Clothing Store                 Coffee Shop   \n",
       "1                  Diner           Clothing Store     Comfort Food Restaurant   \n",
       "3            Coffee Shop    Vietnamese Restaurant          Athletics & Sports   \n",
       "7         Sandwich Place           Clothing Store          Chinese Restaurant   \n",
       "10           Coffee Shop  Comfort Food Restaurant  Construction & Landscaping   \n",
       "\n",
       "         9th Most Common Venue      10th Most Common Venue  \n",
       "0      Comfort Food Restaurant  Construction & Landscaping  \n",
       "1   Construction & Landscaping           Convenience Store  \n",
       "3                       Bakery           Convenience Store  \n",
       "7         Caribbean Restaurant          Italian Restaurant  \n",
       "10           Convenience Store              Cosmetics Shop  "
      ]
     },
     "execution_count": 210,
     "metadata": {},
     "output_type": "execute_result"
    }
   ],
   "source": [
    "neighborhoods_venues_sorted.insert(0, 'Cluster Labels', kmeans.labels_)\n",
    "ny_merged = df_ny\n",
    "ny_merged = ny_merged.join(neighborhoods_venues_sorted.set_index('Neighborhood'), on='Neighborhood')\n",
    "ny_merged.head()"
   ]
  },
  {
   "cell_type": "markdown",
   "metadata": {},
   "source": [
    "The last step is to visualize our clustering. Let's use Folium one last time:"
   ]
  },
  {
   "cell_type": "code",
   "execution_count": 212,
   "metadata": {},
   "outputs": [
    {
     "data": {
      "text/html": [
       "<div style=\"width:100%;\"><div style=\"position:relative;width:100%;height:0;padding-bottom:60%;\"><span style=\"color:#565656\">Make this Notebook Trusted to load map: File -> Trust Notebook</span><iframe src=\"about:blank\" style=\"position:absolute;width:100%;height:100%;left:0;top:0;border:none !important;\" data-html=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 onload=\"this.contentDocument.open();this.contentDocument.write(atob(this.getAttribute('data-html')));this.contentDocument.close();\" allowfullscreen webkitallowfullscreen mozallowfullscreen></iframe></div></div>"
      ],
      "text/plain": [
       "<folium.folium.Map at 0x2671261efd0>"
      ]
     },
     "execution_count": 212,
     "metadata": {},
     "output_type": "execute_result"
    }
   ],
   "source": [
    "# create map\n",
    "map_clusters = folium.Map(location=[latitude, longitude], zoom_start=12)\n",
    "\n",
    "# set color scheme for the clusters\n",
    "x = np.arange(kclusters)\n",
    "ys = [i + x + (i*x)**2 for i in range(kclusters)]\n",
    "colors_array = cm.rainbow(np.linspace(0, 1, len(ys)))\n",
    "rainbow = [colors.rgb2hex(i) for i in colors_array]\n",
    "\n",
    "# add markers to the map\n",
    "markers_colors = []\n",
    "for lat, lon, poi, cluster in zip(ny_merged['Latitude'], ny_merged['Longitude'], ny_merged['Neighborhood'], ny_merged['Cluster Labels']):\n",
    "    label = folium.Popup(str(poi) + ' Cluster ' + str(cluster), parse_html=True)\n",
    "    folium.CircleMarker(\n",
    "        [lat, lon],\n",
    "        radius=5,\n",
    "        popup=label,\n",
    "        color=rainbow[cluster-1],\n",
    "        fill=True,\n",
    "        fill_color=rainbow[cluster-1],\n",
    "        fill_opacity=0.7).add_to(map_clusters)\n",
    "       \n",
    "map_clusters"
   ]
  },
  {
   "cell_type": "markdown",
   "metadata": {},
   "source": [
    "Ok, now job is done.\n",
    "\n",
    "### Thanks for your attention!"
   ]
  },
  {
   "cell_type": "markdown",
   "metadata": {},
   "source": [
    "<p></p>"
   ]
  },
  {
   "cell_type": "markdown",
   "metadata": {},
   "source": [
    "_Notebook developed by Eric Galindo in August/2020 in São Paulo, Brazil._"
   ]
  }
 ],
 "metadata": {
  "kernelspec": {
   "display_name": "Python 3",
   "language": "python",
   "name": "python3"
  },
  "language_info": {
   "codemirror_mode": {
    "name": "ipython",
    "version": 3
   },
   "file_extension": ".py",
   "mimetype": "text/x-python",
   "name": "python",
   "nbconvert_exporter": "python",
   "pygments_lexer": "ipython3",
   "version": "3.7.3"
  }
 },
 "nbformat": 4,
 "nbformat_minor": 2
}
